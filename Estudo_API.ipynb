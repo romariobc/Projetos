{
  "nbformat": 4,
  "nbformat_minor": 0,
  "metadata": {
    "colab": {
      "provenance": [],
      "authorship_tag": "ABX9TyPON2QG0i8w5A+pq2cRCRlL",
      "include_colab_link": true
    },
    "kernelspec": {
      "name": "python3",
      "display_name": "Python 3"
    },
    "language_info": {
      "name": "python"
    }
  },
  "cells": [
    {
      "cell_type": "markdown",
      "metadata": {
        "id": "view-in-github",
        "colab_type": "text"
      },
      "source": [
        "<a href=\"https://colab.research.google.com/github/romariobc/Projetos/blob/master/Estudo_API.ipynb\" target=\"_parent\"><img src=\"https://colab.research.google.com/assets/colab-badge.svg\" alt=\"Open In Colab\"/></a>"
      ]
    },
    {
      "cell_type": "markdown",
      "source": [
        "Baixar lib request e json para traduzir as respostas no formato certo\n"
      ],
      "metadata": {
        "id": "ifgPUglPV11Y"
      }
    },
    {
      "cell_type": "code",
      "execution_count": 1,
      "metadata": {
        "id": "XERdHvgxU8m1"
      },
      "outputs": [],
      "source": [
        "import requests\n",
        "import json"
      ]
    },
    {
      "cell_type": "markdown",
      "source": [
        "Checar a documentação da api e buscar o link de solicitação.\n",
        "Neste exemplo o link é: https://economia.awesomeapi.com.br/last/USD-BRL"
      ],
      "metadata": {
        "id": "RwdJwWBBVz9V"
      }
    },
    {
      "cell_type": "markdown",
      "source": [
        "De acordo com a doc estes são os parâmetros retornados.\n",
        "\n",
        "Name moedas\n",
        "\n",
        "Type string\n",
        "\n",
        "Description Moedas selecionadas separado por vírgula (,) Ex.: USD-BRL,EUR-BRL,BTC-BRL\n",
        "\n",
        "\n",
        "200\n",
        "404 Moeda especificada não existe\n",
        "\n",
        "{\n",
        "    \"USDBRL\": {\n",
        "        \"code\": \"USD\",\n",
        "        \"codein\": \"BRL\",\n",
        "        \"name\": \"Dólar Americano/Real Brasileiro\",\n",
        "        \"high\": \"5.734\",\n",
        "        \"low\": \"5.7279\",\n",
        "        \"varBid\": \"-0.0054\",\n",
        "        \"pctChange\": \"-0.09\",\n",
        "        \"bid\": \"5.7276\",\n",
        "        \"ask\": \"5.7282\",\n",
        "        \"timestamp\": \"1618315045\",\n",
        "        \"create_date\": \"2021-04-13 08:57:27\"\n",
        "    },\n",
        "    \"EURBRL\": {\n",
        "        \"code\": \"EUR\",\n",
        "        \"codein\": \"BRL\",\n",
        "        \"name\": \"Euro/Real Brasileiro\",\n",
        "        \"high\": \"6.8327\",\n",
        "        \"low\": \"6.8129\",\n",
        "        \"varBid\": \"-0.0069\",\n",
        "        \"pctChange\": \"-0.1\",\n",
        "        \"bid\": \"6.8195\",\n",
        "        \"ask\": \"6.822\",\n",
        "        \"timestamp\": \"1618315093\",\n",
        "        \"create_date\": \"2021-04-13 08:58:15\"\n",
        "    },\n",
        "    \"BTCBRL\": {\n",
        "        \"code\": \"BTC\",\n",
        "        \"codein\": \"BRL\",\n",
        "        \"name\": \"Bitcoin/Real Brasileiro\",\n",
        "        \"high\": \"360000\",\n",
        "        \"low\": \"340500\",\n",
        "        \"varBid\": \"17072.9\",\n",
        "        \"pctChange\": \"4.98\",\n",
        "        \"bid\": \"359973.9\",\n",
        "        \"ask\": \"359974\",\n",
        "        \"timestamp\": \"1618315092\",\n",
        "        \"create_date\": \"2021-04-13 08:58:12\"\n",
        "    }\n",
        "}"
      ],
      "metadata": {
        "id": "FtwemkwPWcDs"
      }
    },
    {
      "cell_type": "markdown",
      "source": [
        "1. Cria uma variável que vai receber a rota de requisição via lib requests.\n",
        "2. Adiciona . mais o verbo de requisição (get, post... etc)\n",
        "3. Entre parentesis e aspas chama o link da api\n"
      ],
      "metadata": {
        "id": "GDQi8LnDYRko"
      }
    },
    {
      "cell_type": "code",
      "source": [
        "cotacao = requests.get(\"https://economia.awesomeapi.com.br/last/USD-BRL\")"
      ],
      "metadata": {
        "id": "VKyFkSilZZd2"
      },
      "execution_count": null,
      "outputs": []
    },
    {
      "cell_type": "markdown",
      "source": [
        "Pega o valor retornado à variável e transforma em json (variável.json())"
      ],
      "metadata": {
        "id": "3Ku6rW5PZbl-"
      }
    },
    {
      "cell_type": "code",
      "source": [
        "cotacao = cotacao.json()"
      ],
      "metadata": {
        "id": "tSd62_-wZh_k"
      },
      "execution_count": null,
      "outputs": []
    },
    {
      "cell_type": "markdown",
      "source": [
        "Cria uma variável para guardar o pedaço de informação que você quer buscas no retorno da api. Ela vai receber a variável anterior então seguimente a informação desejada entre []"
      ],
      "metadata": {
        "id": "sdC13ZIIZkgp"
      }
    },
    {
      "cell_type": "code",
      "source": [
        "cotaca_dolar = cotacao[\"USDBRL\"][\"bid\"]"
      ],
      "metadata": {
        "id": "w7oMHQWNZ3wt"
      },
      "execution_count": null,
      "outputs": []
    },
    {
      "cell_type": "markdown",
      "source": [
        "Exiba o resultado"
      ],
      "metadata": {
        "id": "g2wCexBQZ7aD"
      }
    },
    {
      "cell_type": "code",
      "source": [
        "print (cotaca_dolar)"
      ],
      "metadata": {
        "colab": {
          "base_uri": "https://localhost:8080/"
        },
        "id": "AFBi6pifWTNO",
        "outputId": "56833d8b-de30-4c7e-fec4-80dae1931f5b"
      },
      "execution_count": 3,
      "outputs": [
        {
          "output_type": "stream",
          "name": "stdout",
          "text": [
            "5.1964\n"
          ]
        }
      ]
    }
  ]
}